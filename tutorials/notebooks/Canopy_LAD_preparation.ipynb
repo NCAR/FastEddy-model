{
 "cells": [
  {
   "cell_type": "code",
   "execution_count": null,
   "id": "019fdba9-df12-453f-8c62-2067ca8abf25",
   "metadata": {},
   "outputs": [],
   "source": [
    "import numpy as np\n",
    "import xarray as xr\n",
    "import pandas as pd\n",
    "import numpy.matlib"
   ]
  },
  {
   "cell_type": "code",
   "execution_count": null,
   "id": "5f41d86f-b171-4f80-8d86-c15a4b8453ff",
   "metadata": {},
   "outputs": [],
   "source": [
    "path_base = \"INSERT_PATH_TO_YOUR_RUN_DIRECTORY\"\n",
    "file_FE_0 = path_base + '/output/FE_CANOPY.0'\n",
    "file_lad = path_base + '/initial/LAD_profile.csv'\n",
    "file_FE_0_lad = path_base + '/initial/FE_CANOPY.0'\n",
    "hc_ref = 30.0 # specify canopy height"
   ]
  },
  {
   "cell_type": "code",
   "execution_count": null,
   "id": "c47814fd-3eae-41bc-95a5-481858e2eba9",
   "metadata": {},
   "outputs": [],
   "source": [
    "lad_data = pd.read_csv(file_lad)\n",
    "lad_data"
   ]
  },
  {
   "cell_type": "code",
   "execution_count": null,
   "id": "8eecfd01-655b-4f7e-9db2-b88dc2cf61ec",
   "metadata": {},
   "outputs": [],
   "source": [
    "fe_data = xr.open_dataset(file_FE_0)\n",
    "fe_data"
   ]
  },
  {
   "cell_type": "code",
   "execution_count": null,
   "id": "59945fc8-a3bc-4a9a-ab9a-6e955401a337",
   "metadata": {},
   "outputs": [],
   "source": [
    "zPos_1d = fe_data.zPos.isel(time=0,yIndex=0,xIndex=0).values"
   ]
  },
  {
   "cell_type": "code",
   "execution_count": null,
   "id": "3d194021-9295-46d2-a03c-9c2e50e87151",
   "metadata": {},
   "outputs": [],
   "source": [
    "prof_lad_v = lad_data['LAD']\n",
    "prof_z_v = lad_data['z/hc']*hc_ref"
   ]
  },
  {
   "cell_type": "code",
   "execution_count": null,
   "id": "4ef34a4c-315f-40d4-a1cc-4e9b7b5d30b5",
   "metadata": {},
   "outputs": [],
   "source": [
    "z_max = np.max(prof_z_v)\n",
    "print('z_max=',z_max)\n",
    "z_diff = np.abs(zPos_1d-z_max)\n",
    "ind_FE = np.where(z_diff==np.min(z_diff))[0][0]\n",
    "print('ind_FE=',ind_FE)\n",
    "print('zPos_1d[ind_FE]=',zPos_1d[ind_FE])"
   ]
  },
  {
   "cell_type": "code",
   "execution_count": null,
   "id": "27819534-6c70-41d3-9c65-827323d22cdb",
   "metadata": {},
   "outputs": [],
   "source": [
    "LAD_p1 = np.interp(zPos_1d[0:ind_FE+1], prof_z_v, prof_lad_v)\n",
    "print('LAD_p1.shape=',LAD_p1.shape)"
   ]
  },
  {
   "cell_type": "code",
   "execution_count": null,
   "id": "1a10aad0-69df-471c-be3b-1d6712411cee",
   "metadata": {},
   "outputs": [],
   "source": [
    "LAD_v = np.zeros(zPos_1d.shape)\n",
    "LAD_v[0:ind_FE+1] = LAD_p1\n",
    "print('LAD_v=',LAD_v)"
   ]
  },
  {
   "cell_type": "code",
   "execution_count": null,
   "id": "6b7b5a79-21d5-4363-8eb3-85381c92f3a3",
   "metadata": {},
   "outputs": [],
   "source": [
    "LAD_2d = np.tile(LAD_v, [fe_data.sizes['xIndex'], 1])\n",
    "print('LAD_2d.shape=',LAD_2d.shape)\n",
    "LAD_3d = np.tile(LAD_2d, [fe_data.sizes['yIndex'], 1, 1])\n",
    "print('LAD_3d.shape=',LAD_3d.shape)\n",
    "LAD_3d_n = np.transpose(LAD_3d,[2,0,1])\n",
    "print('LAD_3d_n.shape=',LAD_3d_n.shape)"
   ]
  },
  {
   "cell_type": "code",
   "execution_count": null,
   "id": "ac4e679e-1579-4003-9f71-c0aba77fa15f",
   "metadata": {},
   "outputs": [],
   "source": [
    "ds_out = fe_data"
   ]
  },
  {
   "cell_type": "code",
   "execution_count": null,
   "id": "d104b87d-77ee-4976-9423-7d17e5d02213",
   "metadata": {},
   "outputs": [],
   "source": [
    "ds_out['CanopyLAD'][0,:,:,:] = LAD_3d_n"
   ]
  },
  {
   "cell_type": "code",
   "execution_count": null,
   "id": "c62d24aa-ca97-4e20-b850-5c89993ae6cd",
   "metadata": {},
   "outputs": [],
   "source": [
    "ds_out.to_netcdf(file_FE_0_lad)"
   ]
  },
  {
   "cell_type": "code",
   "execution_count": null,
   "id": "cccde3e9-464b-4d2e-8d41-1605b7282685",
   "metadata": {},
   "outputs": [],
   "source": []
  }
 ],
 "metadata": {
  "kernelspec": {
   "display_name": "Python 3 (ipykernel)",
   "language": "python",
   "name": "python3"
  },
  "language_info": {
   "codemirror_mode": {
    "name": "ipython",
    "version": 3
   },
   "file_extension": ".py",
   "mimetype": "text/x-python",
   "name": "python",
   "nbconvert_exporter": "python",
   "pygments_lexer": "ipython3",
   "version": "3.11.9"
  }
 },
 "nbformat": 4,
 "nbformat_minor": 5
}
