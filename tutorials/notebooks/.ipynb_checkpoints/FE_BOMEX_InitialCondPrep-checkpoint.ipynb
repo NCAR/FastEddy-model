{
 "cells": [
  {
   "cell_type": "code",
   "execution_count": 1,
   "metadata": {},
   "outputs": [],
   "source": [
    "%matplotlib inline\n",
    "import os, sys\n",
    "import numpy as np\n",
    "import xarray as xr\n",
    "import pandas as pd\n",
    "import matplotlib.pyplot as plt\n",
    "from netCDF4 import Dataset"
   ]
  },
  {
   "cell_type": "code",
   "execution_count": 2,
   "metadata": {},
   "outputs": [
    {
     "name": "stdout",
     "output_type": "stream",
     "text": [
      "xarray==0.12.3\n",
      "pandas==0.25.0\n",
      "numpy==1.15.4\n",
      "netCDF4==1.5.3\n",
      "matplotlib==2.2.3\n"
     ]
    }
   ],
   "source": [
    "import pkg_resources\n",
    "import types\n",
    "def get_imports():\n",
    "    for name, val in globals().items():\n",
    "        if isinstance(val, types.ModuleType):\n",
    "            # Split ensures you get root package, \n",
    "            # not just imported function\n",
    "            name = val.__name__.split(\".\")[0]\n",
    "\n",
    "        elif isinstance(val, type):\n",
    "            name = val.__module__.split(\".\")[0]\n",
    "\n",
    "        # Some packages are weird and have different\n",
    "        # imported names vs. system/pip names. Unfortunately,\n",
    "        # there is no systematic way to get pip names from\n",
    "        # a package's imported name. You'll have to had\n",
    "        # exceptions to this list manually!\n",
    "        poorly_named_packages = {\n",
    "            \"PIL\": \"Pillow\",\n",
    "            \"sklearn\": \"scikit-learn\"\n",
    "        }\n",
    "        if name in poorly_named_packages.keys():\n",
    "            name = poorly_named_packages[name]\n",
    "\n",
    "        yield name\n",
    "imports = list(set(get_imports()))\n",
    "\n",
    "# The only way I found to get the version of the root package\n",
    "# from only the name of the package is to cross-check the names \n",
    "# of installed packages vs. imported packages\n",
    "requirements = []\n",
    "for m in pkg_resources.working_set:\n",
    "    if m.project_name in imports and m.project_name!=\"pip\":\n",
    "        requirements.append((m.project_name, m.version))\n",
    "\n",
    "for r in requirements:\n",
    "    print(\"{}=={}\".format(*r))"
   ]
  },
  {
   "cell_type": "markdown",
   "metadata": {},
   "source": [
    "# Provide an example FE_output field so we can use the coordinate information "
   ]
  },
  {
   "cell_type": "code",
   "execution_count": 3,
   "metadata": {},
   "outputs": [
    {
     "data": {
      "text/plain": [
       "<xarray.Dataset>\n",
       "Dimensions:   (time: 1, xIndex: 152, yIndex: 146, zIndex: 122)\n",
       "Coordinates:\n",
       "  * zIndex    (zIndex) int32 0 1 2 3 4 5 6 7 ... 114 115 116 117 118 119 120 121\n",
       "  * yIndex    (yIndex) int32 0 1 2 3 4 5 6 7 ... 138 139 140 141 142 143 144 145\n",
       "  * xIndex    (xIndex) int32 0 1 2 3 4 5 6 7 ... 144 145 146 147 148 149 150 151\n",
       "Dimensions without coordinates: time\n",
       "Data variables:\n",
       "    xPos      (time, zIndex, yIndex, xIndex) float32 ...\n",
       "    yPos      (time, zIndex, yIndex, xIndex) float32 ...\n",
       "    zPos      (time, zIndex, yIndex, xIndex) float32 ...\n",
       "    topoPos   (time, yIndex, xIndex) float32 ...\n",
       "    rho       (time, zIndex, yIndex, xIndex) float32 ...\n",
       "    u         (time, zIndex, yIndex, xIndex) float32 ...\n",
       "    v         (time, zIndex, yIndex, xIndex) float32 ...\n",
       "    w         (time, zIndex, yIndex, xIndex) float32 ...\n",
       "    theta     (time, zIndex, yIndex, xIndex) float32 ...\n",
       "    pressure  (time, zIndex, yIndex, xIndex) float32 ...\n",
       "    TKE_0     (time, zIndex, yIndex, xIndex) float32 ...\n",
       "    Tau11     (time, zIndex, yIndex, xIndex) float32 ...\n",
       "    Tau21     (time, zIndex, yIndex, xIndex) float32 ...\n",
       "    Tau31     (time, zIndex, yIndex, xIndex) float32 ...\n",
       "    Tau32     (time, zIndex, yIndex, xIndex) float32 ...\n",
       "    Tau22     (time, zIndex, yIndex, xIndex) float32 ...\n",
       "    Tau33     (time, zIndex, yIndex, xIndex) float32 ...\n",
       "    TauTH1    (time, zIndex, yIndex, xIndex) float32 ...\n",
       "    TauTH2    (time, zIndex, yIndex, xIndex) float32 ...\n",
       "    TauTH3    (time, zIndex, yIndex, xIndex) float32 ...\n",
       "    tskin     (time, yIndex, xIndex) float32 ...\n",
       "    fricVel   (time, yIndex, xIndex) float32 ...\n",
       "    htFlux    (time, yIndex, xIndex) float32 ...\n",
       "    invOblen  (time, yIndex, xIndex) float32 ...\n",
       "    qskin     (time, yIndex, xIndex) float32 ...\n",
       "    qFlux     (time, yIndex, xIndex) float32 ...\n",
       "    z0m       (time, yIndex, xIndex) float32 ...\n",
       "    z0t       (time, yIndex, xIndex) float32 ...\n",
       "    qv        (time, zIndex, yIndex, xIndex) float32 ...\n",
       "    ql        (time, zIndex, yIndex, xIndex) float32 ...\n",
       "    TauQv1    (time, zIndex, yIndex, xIndex) float32 ...\n",
       "    TauQv2    (time, zIndex, yIndex, xIndex) float32 ...\n",
       "    TauQv3    (time, zIndex, yIndex, xIndex) float32 ...\n",
       "    TauQl1    (time, zIndex, yIndex, xIndex) float32 ...\n",
       "    TauQl2    (time, zIndex, yIndex, xIndex) float32 ...\n",
       "    TauQl3    (time, zIndex, yIndex, xIndex) float32 ..."
      ]
     },
     "execution_count": 3,
     "metadata": {},
     "output_type": "execute_result"
    }
   ],
   "source": [
    "path_sim = \"/glade/scratch/domingom/FastEddy_2022/FE_release/test_v16_AllExamples/Example04_BOMEX/\"\n",
    "ref_path = path_sim + \"output_pre/FE_BOMEX_pre.0\"\n",
    "out_path = path_sim + \"initial/FE_BOMEX.0\"\n",
    "###\n",
    "ds_ref = xr.open_dataset(ref_path)\n",
    "ds_ref"
   ]
  },
  {
   "cell_type": "code",
   "execution_count": 4,
   "metadata": {},
   "outputs": [],
   "source": [
    "BS_Dict = {'stabilityScheme': 2,  #Stability scheme selector\n",
    "           'temp_grnd': 299.9728,   #Targeting rho = 1.0 under reference pressure = 1.0e5\n",
    "           'pres_grnd': 101500.0,  #Yields rho_grnd=1.0 and theta_grnd=287.458... under temp_grnd=300 and internal-refPressure=1.0e5 \n",
    "           'zStableBottom': 520.0,\n",
    "           'stableGradient': 0.003854,\n",
    "           'zStableBottom2': 1480.0,\n",
    "           'stableGradient2': 0.011154,\n",
    "           'zStableBottom3': 2000.0,\n",
    "           'stableGradient3': 0.00365,\n",
    "           'thetaPerturbationSwitch': 1,\n",
    "           'thetaHeight': 1600.0,\n",
    "           'thetaAmplitude': 0.1,\n",
    "           'U_g': -10.0,\n",
    "           'V_g': 0.0,\n",
    "           'z_Ug': 0.0,\n",
    "           'z_Vg': 10000.0,\n",
    "           'Ug_grad': 0.0018,\n",
    "           'Vg_grad': 0.0,\n",
    "           'thetaPerturbationSwitch': 1,\n",
    "           'thetaHeight': 1600.0,\n",
    "           'thetaAmplitude': 0.1,}"
   ]
  },
  {
   "cell_type": "markdown",
   "metadata": {},
   "source": [
    "# Use profiles to create new netcdf file of initial conditions"
   ]
  },
  {
   "cell_type": "code",
   "execution_count": 5,
   "metadata": {},
   "outputs": [],
   "source": [
    "[Nt, Nz, Ny, Nx] = ds_ref.u.shape"
   ]
  },
  {
   "cell_type": "code",
   "execution_count": 6,
   "metadata": {},
   "outputs": [],
   "source": [
    "# Set Constant values #\n",
    "accel_g = 9.81          # Acceleration of gravity 9.8 m/s^2 \n",
    "R_gas = 287.04          # The ideal gas constant in J/(kg*K) \n",
    "R_vapor = 461.60        # The ideal gas constant for water vapor in J/(kg*K) \n",
    "cv_gas = 718.0          # Specific heat of air at constant volume ****and temperature 300 K in J/(kg*K) \n",
    "cp_gas = R_gas+cv_gas   # Specific heat of air at constant pressure ****and temperature 300 K in J/(kg*K) \n",
    "L_v = 2.5e6             # latent heat of vaporization (J/kg) \n",
    "\n",
    "R_cp = R_gas/cp_gas     # Ratio R/cp\n",
    "cp_R = cp_gas/R_gas     # Ratio cp/R\n",
    "cp_cv = cp_gas/cv_gas   # Ratio cp/cv\n",
    "refPressure = 1.0e5     # Reference pressure set constant to 1e5 Pascals or 1000 millibars) \n",
    "Rv_Rg = R_vapor/R_gas   # Ratio R_vapor/R_gas"
   ]
  },
  {
   "cell_type": "code",
   "execution_count": 7,
   "metadata": {},
   "outputs": [],
   "source": [
    "zq_lev0 = 0.0 # m\n",
    "zq_lev1 = 520.0 # m\n",
    "zq_lev2 = 1480.0 # m\n",
    "zq_lev3 = 2000.0 # m\n",
    "zq_lev4 = 3000.0 # m\n",
    "qv_lev0 = 17.0 # g/kg\n",
    "qv_lev1 = 16.3 # g/kg\n",
    "qv_lev2 = 10.7 # g/kg\n",
    "qv_lev3 = 4.2  # g/kg\n",
    "qv_lev4 = 3.0  # g/kg\n",
    "#Assume the above numbers are specific humidity (rho_v/rho_Total) and convert to mixing ratios (rho_v/rho_d)\n",
    "qv_lev0 = (qv_lev0*1e-3/(1-qv_lev0*1e-3))*1e3\n",
    "qv_lev1 = (qv_lev1*1e-3/(1-qv_lev1*1e-3))*1e3\n",
    "qv_lev2 = (qv_lev2*1e-3/(1-qv_lev2*1e-3))*1e3\n",
    "qv_lev3 = (qv_lev3*1e-3/(1-qv_lev3*1e-3))*1e3\n",
    "qv_lev4 = (qv_lev4*1e-3/(1-qv_lev4*1e-3))*1e3\n",
    "\n",
    "\n",
    "dqdz0 = ((qv_lev1-qv_lev0)/(zq_lev1)) # g/kg m-1\n",
    "dqdz1 = ((qv_lev2-qv_lev1)/(zq_lev2-zq_lev1)) # g/kg m-1\n",
    "dqdz2 = ((qv_lev3-qv_lev2)/(zq_lev3-zq_lev2)) # g/kg m-1\n",
    "dqdz3 = ((qv_lev4-qv_lev3)/(zq_lev4-zq_lev3)) # g/kg m-1"
   ]
  },
  {
   "cell_type": "code",
   "execution_count": 8,
   "metadata": {},
   "outputs": [],
   "source": [
    "printLog = False\n",
    "pres_grnd = BS_Dict['pres_grnd']\n",
    "temp_grnd = BS_Dict['temp_grnd']"
   ]
  },
  {
   "cell_type": "code",
   "execution_count": 9,
   "metadata": {},
   "outputs": [
    {
     "name": "stdout",
     "output_type": "stream",
     "text": [
      "pres_grnd = 101500.000000, theta_grnd = 298.699965, rho_grnd = 1.178804, temp_grnd = 299.972800\n",
      "prm_grnd = 105473.178960, thm_grnd = 307.007151, rhom_grnd = 1.178804, Tm_grnd = 311.715121, qv_grnd = 17.293998\n"
     ]
    }
   ],
   "source": [
    "constant_1 = R_gas/(refPressure**R_cp)\n",
    "rho_grnd = pres_grnd/(R_gas*temp_grnd)\n",
    "theta_grnd = temp_grnd*((pres_grnd/refPressure)**(-R_cp))\n",
    "qv_grnd = qv_lev0\n",
    "prm_grnd = (rho_grnd*(theta_grnd*(1.0+Rv_Rg*qv_grnd*1e-3))*constant_1)**(cp_cv)\n",
    "thm_grnd = theta_grnd*(1.0+Rv_Rg*qv_grnd*1e-3)\n",
    "Tm_grnd = thm_grnd*(prm_grnd/refPressure)**R_cp\n",
    "rhom_grnd = prm_grnd/(R_gas*Tm_grnd)\n",
    "print('pres_grnd = {:f}, theta_grnd = {:f}, rho_grnd = {:f}, temp_grnd = {:f}'.format(pres_grnd,theta_grnd,rho_grnd,temp_grnd))\n",
    "print('prm_grnd = {:f}, thm_grnd = {:f}, rhom_grnd = {:f}, Tm_grnd = {:f}, qv_grnd = {:f}'.format(prm_grnd,thm_grnd,rhom_grnd,Tm_grnd,qv_grnd))"
   ]
  },
  {
   "cell_type": "code",
   "execution_count": 10,
   "metadata": {},
   "outputs": [],
   "source": [
    "z_prof = np.squeeze(ds_ref.zPos.isel(time=0,yIndex=0,xIndex=0).values)\n",
    "th_prof=np.zeros(z_prof.size)\n",
    "dth_prof=np.zeros(z_prof.size)\n",
    "dthm_prof=np.zeros(z_prof.size)\n",
    "thm_prof=np.zeros(z_prof.size)\n",
    "qv_prof=np.zeros(z_prof.size)\n",
    "dqv_prof=np.zeros(z_prof.size)\n",
    "Tm_prof=np.zeros(z_prof.size)\n",
    "rhom_prof=np.zeros(z_prof.size)\n",
    "prnew_prof=np.zeros(z_prof.size)"
   ]
  },
  {
   "cell_type": "code",
   "execution_count": 11,
   "metadata": {},
   "outputs": [],
   "source": [
    "#Given a stability scheme define the theta (dry/moist) profile that we will use assuming hydrostatic balance to obtain rho profile\n",
    "if(BS_Dict['stabilityScheme'] is 2):\n",
    "    for k in range(len(z_prof)):\n",
    "        if(z_prof[k] <= zq_lev1):\n",
    "            z_inc = z_prof[k] - 0.0\n",
    "            qv_prof[k] = qv_lev0 + z_inc*dqdz0\n",
    "            dqv_prof[k] = 0 # qv constant here so dqv/dz = 0\n",
    "        elif((zq_lev1 < z_prof[k]) and (z_prof[k] <= zq_lev2)):\n",
    "            z_inc = z_prof[k] - zq_lev1\n",
    "            qv_prof[k] = qv_lev0 + (zq_lev1-zq_lev0)*dqdz0 + z_inc*dqdz1\n",
    "            dqv_prof[k] = dqdz1 # qv is linear here so dqv/dz = dqdz1\n",
    "        elif((zq_lev2 < z_prof[k]) and (z_prof[k] <= zq_lev3)):\n",
    "            z_inc = z_prof[k] - zq_lev2\n",
    "            qv_prof[k] = qv_lev0 + (zq_lev1-zq_lev0)*dqdz0 + (zq_lev2-zq_lev1)*dqdz1 + z_inc*dqdz2\n",
    "            dqv_prof[k] = dqdz2 # qv is linear here (the first layer contribution is constant at this height) so dqv/dz = dqdz2\n",
    "        else:\n",
    "            z_inc = z_prof[k] - zq_lev3\n",
    "            qv_prof[k] = qv_lev0 + (zq_lev1-zq_lev0)*dqdz0 + (zq_lev2-zq_lev1)*dqdz1 + (zq_lev3-zq_lev2)*dqdz2 + z_inc*dqdz3\n",
    "            dqv_prof[k] = dqdz3 # qv is linear here (the first layer contribution is constant at this height) so dqv/dz = dqdz2\n",
    "        if(qv_prof[k] < 0.0):\n",
    "            qv_prof[k] = 0.0\n",
    "            dqv_prof[k] = (qv_prof[k]-qv_prof[k-1])/(z_prof[k]-z_prof[k-1])\n",
    "        #Now prescribe theta (dry/moist) and the corrseponding pressure\n",
    "        if(z_prof[k] <= BS_Dict['zStableBottom']): \n",
    "            #This point is in a neutral lowest-layer\n",
    "            th_prof[k] = theta_grnd;                               #dry-theta\n",
    "            dth_prof[k] = 0                               #dry-theta is constant at this height so dth/dz = 0\n",
    "            dthm_prof[k] = dth_prof[k]*(1.0+Rv_Rg*qv_prof[k]*1e-3)+dqv_prof[k]*1e-3*(Rv_Rg*th_prof[k])\n",
    "            thm_prof[k] = th_prof[k]*(1.0+Rv_Rg*qv_prof[k]*1e-3)   #moist-theta  (like WRF)\n",
    "            #Dry HB\n",
    "            z_dep = (z_prof[k]/theta_grnd)\n",
    "            frac_refp = ((-accel_g/cp_gas)*z_dep+(pres_grnd/refPressure)**(R_cp))**(cp_R)\n",
    "            #Moist HB\n",
    "            if k is 0:\n",
    "                zm_dep = (z_prof[k]/thm_prof[k])\n",
    "                prnew_prof[k] = refPressure*((-accel_g/cp_gas)*zm_dep+(prm_grnd/refPressure)**(R_cp))**(cp_R)\n",
    "                frac_refpm = ((-accel_g/cp_gas)*zm_dep+(prm_grnd/refPressure)**(R_cp))**(cp_R)\n",
    "            else:\n",
    "                zm_dep = ((z_prof[k]-z_prof[k-1])/thm_prof[k])\n",
    "                prnew_prof[k] = refPressure*((-accel_g/cp_gas)*zm_dep+(prnew_prof[k-1]/refPressure)**(R_cp))**(cp_R)\n",
    "                frac_refpm = ((-accel_g/cp_gas)*zm_dep+(prnew_prof[k-1]/refPressure)**(R_cp))**(cp_R)\n",
    "            if printLog:\n",
    "                print(\"@[k={:d}],zm_dep = {:f}, frac_refpm = {:f}, p = {:f}\".format(k,zm_dep,frac_refpm,prnew_prof[k]))\n",
    "        elif((BS_Dict['zStableBottom'] < z_prof[k]) and (z_prof[k] <= BS_Dict['zStableBottom2'])): \n",
    "            #This point is within the first stable upper-layer\n",
    "            th_prof[k] = theta_grnd + BS_Dict['stableGradient']*(z_prof[k]-BS_Dict['zStableBottom'])\n",
    "            dth_prof[k] = BS_Dict['stableGradient']\n",
    "            dthm_prof[k] = dth_prof[k]*(1.0+Rv_Rg*qv_prof[k]*1e-3)+dqv_prof[k]*1e-3*(Rv_Rg*th_prof[k])\n",
    "            dthm_dz1=dthm_prof[k]\n",
    "            thm_prof[k] = th_prof[k]*(1.0+Rv_Rg*qv_prof[k]*1e-3)\n",
    "            #Dry HB\n",
    "            z_dep = (BS_Dict['zStableBottom']/theta_grnd+(1.0/BS_Dict['stableGradient'])*np.log(1.0+BS_Dict['stableGradient']*(z_prof[k]-BS_Dict['zStableBottom'])/theta_grnd))\n",
    "            frac_refp = ((-accel_g/cp_gas)*z_dep+(pres_grnd/refPressure)**(R_cp))**(cp_R)\n",
    "            #Moist HB\n",
    "            zm_dep = ((z_prof[k]-z_prof[k-1])/thm_prof[k])\n",
    "            prnew_prof[k] = refPressure*((-accel_g/cp_gas)*zm_dep+(prnew_prof[k-1]/refPressure)**(R_cp))**(cp_R)\n",
    "            frac_refpm = ((-accel_g/cp_gas)*zm_dep+(prnew_prof[k-1]/refPressure)**(R_cp))**(cp_R)\n",
    "            if printLog:\n",
    "                print(\"@[k={:d}], frac_refpm = {:f}, p = {:f}\".format(k,frac_refpm,prnew_prof[k]))\n",
    "        elif((BS_Dict['zStableBottom2'] < z_prof[k]) and (z_prof[k] <= BS_Dict['zStableBottom3'])): \n",
    "            #This point is within the third stable upper-layer\n",
    "            th_prof[k] = theta_grnd + BS_Dict['stableGradient']*(BS_Dict['zStableBottom2']-BS_Dict['zStableBottom']) + BS_Dict['stableGradient2']*(z_prof[k]-BS_Dict['zStableBottom2'])\n",
    "            dth_prof[k] = BS_Dict['stableGradient2']\n",
    "            dthm_prof[k] = dth_prof[k]*(1.0+Rv_Rg*qv_prof[k]*1e-3)+dqv_prof[k]*1e-3*(Rv_Rg*th_prof[k])\n",
    "            dthm_dz2 = dthm_prof[k]\n",
    "            thm_prof[k] = th_prof[k]*(1.0+Rv_Rg*qv_prof[k]*1e-3)\n",
    "            #Dry HB\n",
    "            z_dep = ( BS_Dict['zStableBottom']/theta_grnd\n",
    "                     +(1.0/BS_Dict['stableGradient'])*np.log(1.0+BS_Dict['stableGradient']*(BS_Dict['zStableBottom2']-BS_Dict['zStableBottom'])/theta_grnd)\n",
    "                     +(1.0/BS_Dict['stableGradient2'])*np.log(1.0+BS_Dict['stableGradient2']*(z_prof[k]-BS_Dict['zStableBottom2'])\n",
    "                     /(theta_grnd+BS_Dict['stableGradient']*(BS_Dict['zStableBottom2']-BS_Dict['zStableBottom']))))\n",
    "            frac_refp = ((-accel_g/cp_gas)*z_dep+(pres_grnd/refPressure)**(R_cp))**(cp_R)\n",
    "            #Moist HB\n",
    "            zm_dep = ((z_prof[k]-z_prof[k-1])/thm_prof[k])\n",
    "            prnew_prof[k] = refPressure*((-accel_g/cp_gas)*zm_dep+(prnew_prof[k-1]/refPressure)**(R_cp))**(cp_R)\n",
    "            frac_refpm = ((-accel_g/cp_gas)*zm_dep+(prnew_prof[k-1]/refPressure)**(R_cp))**(cp_R)\n",
    "            if printLog:\n",
    "                print(\"@[k={:d}], frac_refpm = {:f}, p = {:f}\".format(k,frac_refpm,prnew_prof[k]))\n",
    "        else: \n",
    "            #This point is within the second stable upper-layer\n",
    "            th_prof[k] = theta_grnd + BS_Dict['stableGradient']*(BS_Dict['zStableBottom2']-BS_Dict['zStableBottom']) + BS_Dict['stableGradient2']*(BS_Dict['zStableBottom3']-BS_Dict['zStableBottom2']) + BS_Dict['stableGradient3']*(z_prof[k]-BS_Dict['zStableBottom3'])\n",
    "            dth_prof[k] = BS_Dict['stableGradient3']\n",
    "            dthm_prof[k] = dth_prof[k]*(1.0+Rv_Rg*qv_prof[k]*1e-3)+dqv_prof[k]*1e-3*(Rv_Rg*th_prof[k])\n",
    "            dthm_dz3 = dthm_prof[k]\n",
    "            thm_prof[k] = th_prof[k]*(1.0+Rv_Rg*qv_prof[k]*1e-3)\n",
    "            #Dry HB\n",
    "            z_dep = ( BS_Dict['zStableBottom']/theta_grnd\n",
    "                     +(1.0/BS_Dict['stableGradient'])*np.log(1.0+BS_Dict['stableGradient']*(BS_Dict['zStableBottom2']-BS_Dict['zStableBottom'])/theta_grnd)\n",
    "                     +(1.0/BS_Dict['stableGradient2'])*np.log(1.0+BS_Dict['stableGradient2']*(BS_Dict['zStableBottom3']-BS_Dict['zStableBottom2'])\n",
    "                     /(theta_grnd+BS_Dict['stableGradient']*(BS_Dict['zStableBottom2']-BS_Dict['zStableBottom'])))\n",
    "                     +(1.0/BS_Dict['stableGradient3'])*np.log(1.0+BS_Dict['stableGradient3']*(z_prof[k]-BS_Dict['zStableBottom3'])\n",
    "                     /(theta_grnd+BS_Dict['stableGradient']*(BS_Dict['zStableBottom2']-BS_Dict['zStableBottom'])+BS_Dict['stableGradient2']*(BS_Dict['zStableBottom3']-BS_Dict['zStableBottom2']))))\n",
    "            frac_refp = ((-accel_g/cp_gas)*z_dep+(pres_grnd/refPressure)**(R_cp))**(cp_R)\n",
    "            #Moist HB\n",
    "            zm_dep = ((z_prof[k]-z_prof[k-1])/thm_prof[k])\n",
    "            prnew_prof[k] = refPressure*((-accel_g/cp_gas)*zm_dep+(prnew_prof[k-1]/refPressure)**(R_cp))**(cp_R)\n",
    "            frac_refpm = ((-accel_g/cp_gas)*zm_dep+(prnew_prof[k-1]/refPressure)**(R_cp))**(cp_R)\n",
    "            if printLog:\n",
    "                print(\"@[k={:d}], frac_refpm = {:f}, p = {:f}\".format(k,frac_refpm,prnew_prof[k]))\n",
    "        #Determine base state air temperature, T_prof from th_prof and pr_prof \n",
    "        Tm_prof[k] = thm_prof[k]*(prnew_prof[k]/refPressure)**(R_cp)\n",
    "        #Determine base state denisty, rho_prof from Tm_prof and prnew_prof \n",
    "        rhom_prof[k] = prnew_prof[k]/(Tm_prof[k]*R_gas)"
   ]
  },
  {
   "cell_type": "code",
   "execution_count": 12,
   "metadata": {},
   "outputs": [],
   "source": [
    "qv_prof2d = np.tile(qv_prof,[Nx,1])\n",
    "qv_prof3d = np.tile(qv_prof2d,[Ny,1,1])\n",
    "qv_prof3d = np.swapaxes(qv_prof3d,0,2)\n",
    "qv_prof3d = np.swapaxes(qv_prof3d,1,2)"
   ]
  },
  {
   "cell_type": "code",
   "execution_count": 13,
   "metadata": {},
   "outputs": [],
   "source": [
    "rhom_prof2d = np.tile(rhom_prof,[Nx,1])\n",
    "rhom_prof3d = np.tile(rhom_prof2d,[Ny,1,1])\n",
    "rhom_prof3d = np.swapaxes(rhom_prof3d,0,2)\n",
    "rhom_prof3d = np.swapaxes(rhom_prof3d,1,2)"
   ]
  },
  {
   "cell_type": "code",
   "execution_count": 14,
   "metadata": {},
   "outputs": [],
   "source": [
    "# modifcation of u-velocity component and SGSTKE\n",
    "u_prof = np.squeeze(ds_ref.u.isel(time=0,yIndex=0,xIndex=0).values)\n",
    "tke_prof = np.squeeze(ds_ref.TKE_0.isel(time=0,yIndex=0,xIndex=0).values)\n",
    "\n",
    "ind_abl = np.where(z_prof<=700.0)\n",
    "u_prof[ind_abl] = -8.75\n",
    "tke_prof = (1.0 - z_prof/3000.0)\n",
    "ind_tke = np.where(tke_prof<0.0)\n",
    "tke_prof[ind_tke] = 0.0"
   ]
  },
  {
   "cell_type": "code",
   "execution_count": 15,
   "metadata": {},
   "outputs": [],
   "source": [
    "u_prof2d = np.tile(u_prof,[Nx,1])\n",
    "u_prof3d = np.tile(u_prof2d,[Ny,1,1])\n",
    "u_prof3d = np.swapaxes(u_prof3d,0,2)\n",
    "u_prof3d = np.swapaxes(u_prof3d,1,2)"
   ]
  },
  {
   "cell_type": "code",
   "execution_count": 16,
   "metadata": {},
   "outputs": [],
   "source": [
    "tke_prof2d = np.tile(tke_prof,[Nx,1])\n",
    "tke_prof3d = np.tile(tke_prof2d,[Ny,1,1])\n",
    "tke_prof3d = np.swapaxes(tke_prof3d,0,2)\n",
    "tke_prof3d = np.swapaxes(tke_prof3d,1,2)"
   ]
  },
  {
   "cell_type": "code",
   "execution_count": 17,
   "metadata": {},
   "outputs": [],
   "source": [
    "# add initial perturbations to theta field\n",
    "if (BS_Dict['thetaPerturbationSwitch']==1):\n",
    "    z_prof_diff = np.abs(z_prof-BS_Dict['thetaHeight'])\n",
    "    kind_pert = np.where(z_prof_diff==np.amin(z_prof_diff))\n",
    "    kind_pert = kind_pert[0]\n",
    "    kind_pert = kind_pert[0]\n",
    "    #print(kind_pert)\n",
    "    len_3d = Nz*Ny*Nx\n",
    "    \n",
    "    rand_th_pert = np.zeros([len_3d])\n",
    "    for rr in range(0,len_3d):\n",
    "        rand_th_pert[rr] = 2.0*BS_Dict['thetaAmplitude']*(np.random.random(1)[0]-0.5)\n",
    "    \n",
    "    rand_th_pert_3d = rand_th_pert.reshape(Nz,Ny,Nx)\n",
    "    #print('rand_th_pert_3d.shape=',rand_th_pert_3d.shape)\n",
    "    \n",
    "    th_mod = ds_ref['theta'][0,:,:,:]\n",
    "    th_mod[0:kind_pert,:,:] = th_mod[0:kind_pert,:,:] + rand_th_pert_3d[0:kind_pert,:,:]\n",
    "    #print('th_mod.shape=',th_mod.shape)"
   ]
  },
  {
   "cell_type": "code",
   "execution_count": 18,
   "metadata": {},
   "outputs": [],
   "source": [
    "ds_data=ds_ref\n",
    "ds_data['rho'][0,:,:,:]=rhom_prof3d\n",
    "ds_data['u'][0,:,:,:]=u_prof3d\n",
    "ds_data['TKE_0'][0,:,:,:]=tke_prof3d\n",
    "ds_data['qv'][0,:,:,:]=qv_prof3d\n",
    "if (BS_Dict['thetaPerturbationSwitch']==1):\n",
    "    ds_data['theta'][0,:,:,:]=th_mod"
   ]
  },
  {
   "cell_type": "code",
   "execution_count": 19,
   "metadata": {},
   "outputs": [],
   "source": [
    "ds_data.to_netcdf(out_path)"
   ]
  },
  {
   "cell_type": "code",
   "execution_count": null,
   "metadata": {},
   "outputs": [],
   "source": []
  },
  {
   "cell_type": "code",
   "execution_count": null,
   "metadata": {},
   "outputs": [],
   "source": []
  }
 ],
 "metadata": {
  "kernelspec": {
   "display_name": "Python 3",
   "language": "python",
   "name": "python3"
  },
  "language_info": {
   "codemirror_mode": {
    "name": "ipython",
    "version": 3
   },
   "file_extension": ".py",
   "mimetype": "text/x-python",
   "name": "python",
   "nbconvert_exporter": "python",
   "pygments_lexer": "ipython3",
   "version": "3.6.8"
  }
 },
 "nbformat": 4,
 "nbformat_minor": 4
}
