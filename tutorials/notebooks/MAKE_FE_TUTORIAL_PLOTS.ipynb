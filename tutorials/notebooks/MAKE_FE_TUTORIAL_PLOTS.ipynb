{
 "cells": [
  {
   "cell_type": "markdown",
   "metadata": {},
   "source": [
    "# FASTEDDY TUTORIAL VISUALIZATION AND ANALYSIS NOTEBOOK"
   ]
  },
  {
   "cell_type": "markdown",
   "metadata": {},
   "source": [
    "# 1. Import the tutorial helper-functions from python file"
   ]
  },
  {
   "cell_type": "code",
   "execution_count": null,
   "metadata": {},
   "outputs": [],
   "source": [
    "import os, sys\n",
    "import numpy as np\n",
    "import xarray as xr\n",
    "import pandas as pd\n",
    "import matplotlib.pyplot as plt\n",
    "from netCDF4 import Dataset\n",
    "import math\n",
    "from scipy.stats import skew\n",
    "from scipy.stats import kurtosis\n",
    "import matplotlib.colors as mcolors\n",
    "import scipy.fftpack as fftpack\n",
    "from scipy import interpolate\n",
    "from fetutorialfunctions import *"
   ]
  },
  {
   "cell_type": "code",
   "execution_count": null,
   "metadata": {},
   "outputs": [],
   "source": [
    "check_imports()"
   ]
  },
  {
   "cell_type": "markdown",
   "metadata": {},
   "source": [
    "# 2. Define parameters"
   ]
  },
  {
   "cell_type": "code",
   "execution_count": null,
   "metadata": {},
   "outputs": [],
   "source": [
    "##########################\n",
    "# BEGIN USER EDIT REGION #\n",
    "##########################\n",
    "path_base = \"INSERT_PATH_TO_YOUR_RUN_DIRECTORY\"\n",
    "path_end = \"/output/\"      # FOR EACH CASE, SUBDIRECTORY PATHS TO OUTPUT\n",
    "save_plot_opt = 1          # 0-DO NOT SAVE PLOTS, 1-SAVE PLOTS\n",
    "\n",
    "case = 'stable' # USER SELECTED CASE: 'stable', 'convective', or 'neutral'\n",
    "\n",
    "if (case=='neutral'):\n",
    "    zChoose = 100.0 # VERTICAL HEIGHT TO MAKE XY PLOTS\n",
    "    z_max = 1000.0 # maximum height to plot in the vertical crossections/profiles\n",
    "    cases_FE = ['Example01_NBL'] # SUBDIRECTORY PATHS TO EACH CASE\n",
    "    output_base = [\"FE_NBL.\"] # OUTPUT FILE NAMES FOR EACH CASE (NBL: NEUTRAL, CBL: CONVECTIVE, and SBL: STABLE)\n",
    "    FE_timestep = ['630000'] # FINAL TIME STEPS OF CASES\n",
    "    path_figure = path_base + cases_FE[0] + '/FIGS/' # BASE PATH TO FIGURES IF save_plot_opt=1\n",
    "    FE_timestep_avg = ['540000','555000','570000','585000','600000','615000','630000'] # Output files used for temporal averaging\n",
    "    sizeX_XZ = 22\n",
    "    sizeY_XZ = 14\n",
    "elif (case=='convective'):\n",
    "    zChoose = 500.0 # VERTICAL HEIGHT TO MAKE XY PLOTS\n",
    "    z_max = 3000.0 # maximum height to plot in the vertical crossections/profiles\n",
    "    cases_FE = ['Example02_CBL'] # SUBDIRECTORY PATHS TO EACH CASE\n",
    "    output_base = [\"FE_CBL.\"] # OUTPUT FILE NAMES FOR EACH CASE (NBL: NEUTRAL, CBL: CONVECTIVE, and SBL: STABLE)\n",
    "    FE_timestep = ['288000'] # FINAL TIME STEPS OF CASES\n",
    "    path_figure = path_base + cases_FE[0] + '/FIGS/' # BASE PATH TO FIGURES IF save_plot_opt=1\n",
    "    FE_timestep_avg = ['216000','228000','240000','252000','264000','276000','288000'] # Output files used for temporal averaging\n",
    "    sizeX_XZ = 20\n",
    "    sizeY_XZ = 20\n",
    "elif (case=='stable'):\n",
    "    zChoose = 50.0 # VERTICAL HEIGHT TO MAKE XY PLOTS\n",
    "    z_max = 300.0 # maximum height to plot in the vertical crossections/profiles\n",
    "    cases_FE = ['Example03_SBL'] # SUBDIRECTORY PATHS TO EACH CASE\n",
    "    output_base = [\"FE_SBL.\"] # OUTPUT FILE NAMES FOR EACH CASE (NBL: NEUTRAL, CBL: CONVECTIVE, and SBL: STABLE)\n",
    "    FE_timestep = ['8640000'] # FINAL TIME STEPS OF CASES\n",
    "    path_figure = path_base + cases_FE[0] + '/FIGS/' # BASE PATH TO FIGURES IF save_plot_opt=1\n",
    "    FE_timestep_avg = ['7992000','8100000','8208000','8316000','8424000','8532000','8640000'] # Output files used for temporal averaging\n",
    "    sizeX_XZ = 9\n",
    "    sizeY_XZ = 20\n",
    "\n",
    "########################\n",
    "# END USER EDIT REGION #\n",
    "########################"
   ]
  },
  {
   "cell_type": "markdown",
   "metadata": {},
   "source": [
    "# 3. Open files"
   ]
  },
  {
   "cell_type": "code",
   "execution_count": null,
   "metadata": {},
   "outputs": [],
   "source": [
    "n_cases = len(cases_FE)\n",
    "files_FE = []\n",
    "for cc in range(0,len(cases_FE)):\n",
    "    files_FE.append(path_base+cases_FE[cc]+path_end+output_base[cc]+FE_timestep[cc])\n",
    "\n",
    "print('files_FE=',files_FE)\n",
    "\n",
    "path_figure = path_figure \n",
    "if not os.path.exists(path_figure):\n",
    "    os.makedirs(path_figure)\n",
    "    \n",
    "case_tmp = 'case_open'\n",
    "case_open = case_tmp + '=xr.open_dataset(files_FE[0])'\n",
    "print(case_open)\n",
    "exec(case_open)"
   ]
  },
  {
   "cell_type": "markdown",
   "metadata": {},
   "source": [
    "# 4. Plot XY cross sections "
   ]
  },
  {
   "cell_type": "code",
   "execution_count": null,
   "metadata": {},
   "outputs": [],
   "source": [
    "plot_XY_UVWTHETA(case, case_open, zChoose, save_plot_opt, path_figure)"
   ]
  },
  {
   "cell_type": "markdown",
   "metadata": {},
   "source": [
    "# 5. Plot XZ cross sections "
   ]
  },
  {
   "cell_type": "code",
   "execution_count": null,
   "metadata": {},
   "outputs": [],
   "source": [
    "plot_XZ_UVWTHETA(case, case_open, z_max, sizeX_XZ, sizeY_XZ, save_plot_opt, path_figure)"
   ]
  },
  {
   "cell_type": "markdown",
   "metadata": {},
   "source": [
    "# 6. Plot mean vertical profiles of state variables"
   ]
  },
  {
   "cell_type": "code",
   "execution_count": null,
   "metadata": {},
   "outputs": [],
   "source": [
    "FE_mean_tmp = compute_mean_profiles(case_open)"
   ]
  },
  {
   "cell_type": "code",
   "execution_count": null,
   "metadata": {},
   "outputs": [],
   "source": [
    "numPlotsX = 1\n",
    "numPlotsY = 3\n",
    "sizeX = 12\n",
    "sizeY = 6\n",
    "fig,axs = plot_figureConfigure(numPlotsX,numPlotsY,sizeX,sizeY,styleFile='./feplot.mplstyle')\n",
    "plot_mean_profiles(fig, axs, FE_mean_tmp, z_max, case, save_plot_opt, path_figure, 0)"
   ]
  },
  {
   "cell_type": "markdown",
   "metadata": {},
   "source": [
    "# 7. Plot mean vertical profiles of turbulent quantities"
   ]
  },
  {
   "cell_type": "code",
   "execution_count": null,
   "metadata": {},
   "outputs": [],
   "source": [
    "FE_turb_tmp=0.0\n",
    "for dd in range(0,len(FE_timestep_avg)):\n",
    "    file_FE_tmp = path_base+cases_FE[0]+path_end+output_base[0]+FE_timestep_avg[dd]\n",
    "    print(file_FE_tmp)\n",
    "    FE_turb_xr_tmp = xr.open_dataset(file_FE_tmp)\n",
    "    FE_turb_tmp = compute_turb_profiles(FE_turb_xr_tmp, FE_turb_tmp)"
   ]
  },
  {
   "cell_type": "code",
   "execution_count": null,
   "metadata": {},
   "outputs": [],
   "source": [
    "numPlotsX = 1\n",
    "numPlotsY = 4\n",
    "sizeX = 16\n",
    "sizeY = 6\n",
    "fig,axs = plot_figureConfigure(numPlotsX,numPlotsY,sizeX,sizeY,styleFile='./feplot.mplstyle')\n",
    "plot_turb_profiles(fig, axs, case, FE_turb_tmp, z_max, save_plot_opt, path_figure)"
   ]
  },
  {
   "cell_type": "code",
   "execution_count": null,
   "metadata": {},
   "outputs": [],
   "source": []
  },
  {
   "cell_type": "code",
   "execution_count": null,
   "metadata": {},
   "outputs": [],
   "source": []
  }
 ],
 "metadata": {
  "kernelspec": {
   "display_name": "Python 3",
   "language": "python",
   "name": "python3"
  },
  "language_info": {
   "codemirror_mode": {
    "name": "ipython",
    "version": 3
   },
   "file_extension": ".py",
   "mimetype": "text/x-python",
   "name": "python",
   "nbconvert_exporter": "python",
   "pygments_lexer": "ipython3",
   "version": "3.7.9"
  }
 },
 "nbformat": 4,
 "nbformat_minor": 4
}
